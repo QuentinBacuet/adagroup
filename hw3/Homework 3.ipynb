{
 "cells": [
  {
   "cell_type": "markdown",
   "metadata": {
    "collapsed": true
   },
   "source": [
    "# Interactive visualization"
   ]
  },
  {
   "cell_type": "code",
   "execution_count": null,
   "metadata": {
    "collapsed": true
   },
   "outputs": [],
   "source": [
    "import os\n",
    "import pandas as pd\n",
    "import json\n",
    "import folium\n",
    "from IPython.display import display, HTML\n",
    "from ipywidgets import widgets\n",
    "from ipywidgets import interact\n",
    "import matplotlib.pyplot as plt\n",
    "import seaborn as sns"
   ]
  },
  {
   "cell_type": "code",
   "execution_count": null,
   "metadata": {},
   "outputs": [],
   "source": [
    "europe_unemployment_data = pd.DataFrame.from_csv('data/europe_unemployment.tsv', sep='\\t', header=0)\n",
    "europe_unemployment_data.head()"
   ]
  },
  {
   "cell_type": "markdown",
   "metadata": {},
   "source": [
    "## Description taken from eurostat: \n",
    "\n",
    "Unemployment rates represent unemployed persons as a percentage of the labour force. The labour force is the total number of people employed and unemployed. Unemployed persons comprise persons aged 15 to 74 who were: a. without work during the reference week, b. currently available for work, i.e. were available for paid employment or self-employment before the end of the two weeks following the reference week, c. actively seeking work, i.e. had taken specific steps in the four weeks period ending with the reference week to seek paid employment or self-employment or who found a job to start later, i.e. within a period of, at most, three months. This table does not only show unemployment rates but also unemployed in 1000 and as % of the total population. "
   ]
  },
  {
   "cell_type": "code",
   "execution_count": null,
   "metadata": {
    "collapsed": true
   },
   "outputs": [],
   "source": [
    "europe_unemployment_data_2016 = europe_unemployment_data[europe_unemployment_data.index.str.match(\".*PC_ACT.*\")]['2016 '].reset_index()\n",
    "\n",
    "europe_unemployment_data_2016.columns = ['Country', 'Rate']\n",
    "europe_unemployment_data_2016['Country'] = europe_unemployment_data_2016['Country'].str.extract('(..$)', expand=False)"
   ]
  },
  {
   "cell_type": "code",
   "execution_count": null,
   "metadata": {
    "collapsed": true
   },
   "outputs": [],
   "source": [
    "europe_unemployment_data_2016.at[35, 'Country']= 'GB'"
   ]
  },
  {
   "cell_type": "code",
   "execution_count": null,
   "metadata": {},
   "outputs": [],
   "source": [
    "europe_json = json.load(open(\"topojson/europe.topojson.json\"))\n",
    "m = folium.Map([47.870833, 9.085721], tiles='cartodbpositron', zoom_start=4)\n",
    "m.choropleth(europe_json, \n",
    "             data=europe_unemployment_data_2016, \n",
    "             columns=['Country', 'Rate'], \n",
    "             key_on='feature.id', \n",
    "             fill_color='YlOrRd',\n",
    "             topojson='objects.europe',\n",
    "             )\n",
    "m"
   ]
  },
  {
   "cell_type": "markdown",
   "metadata": {},
   "source": [
    "# 2 Swiss unemployment data\n",
    "## 2.a Counting people with jobs, looking for another job"
   ]
  },
  {
   "cell_type": "code",
   "execution_count": null,
   "metadata": {},
   "outputs": [],
   "source": [
    "swiss_unemployment_data = pd.read_csv('data/swiss_unemployment_total.csv')\n",
    "swiss_unemployment_rates = swiss_unemployment_data.copy()[['Canton','Taux de chômage (1 cav)','Taux de chômage des jeunes (1 pdv)']]\n",
    "swiss_unemployment_rates.head()"
   ]
  },
  {
   "cell_type": "code",
   "execution_count": null,
   "metadata": {
    "collapsed": true
   },
   "outputs": [],
   "source": [
    "cantons_dict = {'Zurich': 'ZH', 'Berne': 'BE','Lucerne':'LU','Uri':'UR','Schwyz':'SZ',\n",
    "    'Obwald':'OW','Nidwald':'NW','Glaris':'GL','Zoug':'ZG','Fribourg':'FR',\n",
    "    'Soleure':'SO','Bâle-Ville':'BS','Bâle-Campagne':'BL','Schaffhouse':'SH',\n",
    "    'Appenzell Rhodes-Extérieures':'AR','Appenzell Rhodes-Intérieures':'AI',\n",
    "    'St-Gall':'SG','Grisons':'GR','Argovie':'AG','Thurgovie':'TG','Tessin':'TI',\n",
    "    'Vaud':'VD','Valais':'VS','Neuchâtel':'NE','Genève':'GE','Jura':'JU'}\n",
    "\n",
    "swiss_unemployment_rates.Canton.replace(cantons_dict, inplace=True)"
   ]
  },
  {
   "cell_type": "code",
   "execution_count": null,
   "metadata": {},
   "outputs": [],
   "source": [
    "swiss_json = json.load(open(\"topojson/ch-cantons.topojson.json\"))\n",
    "\n",
    "map_ = folium.Map([46.819393, 8.333115], tiles='cartodbpositron', zoom_start=8)\n",
    "map_.choropleth(swiss_json, \n",
    "             data=swiss_unemployment_rates, \n",
    "             columns=['Canton', 'Taux de chômage (1 cav)'], \n",
    "             key_on='feature.id', \n",
    "             fill_color='YlOrRd',\n",
    "             topojson='objects.cantons'\n",
    "             )\n",
    "map_"
   ]
  },
  {
   "cell_type": "markdown",
   "metadata": {},
   "source": [
    "## 2.b Unemployment, without people with job"
   ]
  },
  {
   "cell_type": "code",
   "execution_count": null,
   "metadata": {
    "collapsed": true
   },
   "outputs": [],
   "source": []
  },
  {
   "cell_type": "markdown",
   "metadata": {},
   "source": [
    "# 3 Swiss unemployment, split"
   ]
  },
  {
   "cell_type": "markdown",
   "metadata": {},
   "source": [
    "## 3.a Split by nationality"
   ]
  },
  {
   "cell_type": "code",
   "execution_count": null,
   "metadata": {
    "collapsed": true
   },
   "outputs": [],
   "source": [
    "swiss_unemployment_nationality_data = pd.read_csv('data/swiss_unemployment_nationality_split.csv')\n",
    "swiss_unemployment_nationality_rates = swiss_unemployment_nationality_data.copy()[['Canton','Taux de chômage (1 cav)','Nationalité']]\n",
    "\n",
    "swiss_unemployment_nationality_rates.Canton.replace(cantons_dict, inplace=True)"
   ]
  },
  {
   "cell_type": "code",
   "execution_count": null,
   "metadata": {
    "collapsed": true
   },
   "outputs": [],
   "source": [
    "swiss_unemployment_foreign_rates = swiss_unemployment_nationality_rates[swiss_unemployment_nationality_rates['Nationalité'] =='Etrangers']\n",
    "swiss_unemployment_swiss_rates = swiss_unemployment_nationality_rates[swiss_unemployment_nationality_rates['Nationalité'] =='Suisses']"
   ]
  },
  {
   "cell_type": "code",
   "execution_count": null,
   "metadata": {},
   "outputs": [],
   "source": [
    "map_ = folium.Map([46.819393, 8.333115], tiles='cartodbpositron', zoom_start=8)\n",
    "map_.choropleth(swiss_json, \n",
    "     data=swiss_unemployment_swiss_rates, \n",
    "     columns=['Canton', 'Taux de chômage (1 cav)'], \n",
    "     key_on='feature.id', \n",
    "     fill_color='YlOrRd',\n",
    "     topojson='objects.cantons',\n",
    "     threshold_scale=[1, 3, 5, 7, 9, 11]\n",
    ")\n",
    "\n",
    "map_"
   ]
  },
  {
   "cell_type": "code",
   "execution_count": null,
   "metadata": {},
   "outputs": [],
   "source": [
    "map_ = folium.Map([46.819393, 8.333115], tiles='cartodbpositron', zoom_start=8)\n",
    "map_.choropleth(swiss_json, \n",
    "    data=swiss_unemployment_foreign_rates, \n",
    "    columns=['Canton', 'Taux de chômage (1 cav)'], \n",
    "    key_on='feature.id', \n",
    "    fill_color='YlOrRd',\n",
    "    topojson='objects.cantons',\n",
    "    threshold_scale=[1, 3, 5, 7, 9, 11]\n",
    ")\n",
    "map_"
   ]
  },
  {
   "cell_type": "code",
   "execution_count": null,
   "metadata": {},
   "outputs": [],
   "source": [
    "def on_click_b(x):\n",
    "    map_ = folium.Map([46.819393, 8.333115], tiles='cartodbpositron', zoom_start=8)\n",
    "    if x:\n",
    "        map_.choropleth(swiss_json, \n",
    "             data=swiss_unemployment_swiss_rates, \n",
    "             columns=['Canton', 'Taux de chômage (1 cav)'], \n",
    "             key_on='feature.id', \n",
    "             fill_color='YlOrRd',\n",
    "             topojson='objects.cantons',\n",
    "                 threshold_scale=[1, 3, 5, 7, 9, 11]\n",
    "                )\n",
    "    else:\n",
    "        map_.choropleth(swiss_json, \n",
    "                 data=swiss_unemployment_foreign_rates, \n",
    "                 columns=['Canton', 'Taux de chômage (1 cav)'], \n",
    "                 key_on='feature.id', \n",
    "                 fill_color='YlOrRd',\n",
    "                 topojson='objects.cantons',\n",
    "                 threshold_scale=[1, 3, 5, 7, 9, 11]\n",
    "                )\n",
    "    \n",
    "    display(map_)\n",
    "\n",
    "w = widgets.Dropdown(options={'Swiss': True, 'Foreigner': False},description='Selection')\n",
    "interact(on_click_b,x=w)"
   ]
  },
  {
   "cell_type": "markdown",
   "metadata": {},
   "source": [
    "## 3.b Split by nationality and age"
   ]
  },
  {
   "cell_type": "code",
   "execution_count": null,
   "metadata": {
    "collapsed": true
   },
   "outputs": [],
   "source": [
    "def to_numeric(x):\n",
    "    return(x.str.replace('\\'', '')).astype('int64')"
   ]
  },
  {
   "cell_type": "code",
   "execution_count": null,
   "metadata": {},
   "outputs": [],
   "source": [
    "swiss_unemployment_nationality_age_data = pd.read_csv('data/swiss_unemployment_nationality_age_split.csv')\n",
    "swiss_unemployment_nationality_age_rates = swiss_unemployment_nationality_age_data.copy()\n",
    "\n",
    "swiss_unemployment_nationality_age_rates = swiss_unemployment_nationality_age_rates.drop(['Unnamed: 3','Mois'], 1)\n",
    "swiss_unemployment_nationality_age_rates.loc[:,\"Janvier 2016\":\"Décembre 2016\"] = swiss_unemployment_nationality_age_rates.loc[:,\"Janvier 2016\":\"Décembre 2016\"].apply(lambda x: to_numeric(x), axis=1)\n",
    "swiss_unemployment_nationality_age_rates[\"Mean\"] = (swiss_unemployment_nationality_age_rates.loc[:,\"Janvier 2016\":\"Décembre 2016\"].sum(axis=1)/12).astype('int64')\n",
    "\n",
    "swiss_unemployment_nationality_age_rates = swiss_unemployment_nationality_age_rates[['Canton','Nationalité','Classes d\\'âge 15-24, 25-49, 50 ans et plus','Mean']]\n",
    "\n",
    "swiss_unemployment_nationality_age_rates = swiss_unemployment_nationality_age_rates[swiss_unemployment_nationality_age_rates['Canton'] != 'Total']\n",
    "swiss_unemployment_nationality_age_rates = swiss_unemployment_nationality_age_rates[swiss_unemployment_nationality_age_rates['Nationalité'] != 'Total']\n",
    "swiss_unemployment_nationality_age_rates = swiss_unemployment_nationality_age_rates[swiss_unemployment_nationality_age_rates['Classes d\\'âge 15-24, 25-49, 50 ans et plus'] != 'Total']\n",
    "\n",
    "swiss_unemployment_nationality_age_rates['Nationality and age'] = swiss_unemployment_nationality_age_rates['Nationalité'] + swiss_unemployment_nationality_age_rates['Classes d\\'âge 15-24, 25-49, 50 ans et plus'] \n",
    "\n",
    "swiss_unemployment_nationality_age_rates = swiss_unemployment_nationality_age_rates.pivot(index='Canton', columns= 'Nationality and age', values='Mean')\n",
    "\n",
    "display(swiss_unemployment_nationality_age_rates)\n",
    "\n"
   ]
  },
  {
   "cell_type": "code",
   "execution_count": null,
   "metadata": {},
   "outputs": [],
   "source": [
    "swiss_unemployment_nationality_age_rates.plot.barh(grid =False,fontsize= 30,width = 0.85)\n",
    "rcParams['figure.figsize'] = 40,40\n",
    "plt.xlabel('Rate',fontsize = 45)\n",
    "plt.ylabel('Canton', fontsize=45,rotation = 0)\n",
    "plt.legend(\n",
    "   fontsize=40)\n",
    "plt.show()"
   ]
  },
  {
   "cell_type": "markdown",
   "metadata": {},
   "source": [
    "# 4  Röstigraben Delimitation"
   ]
  },
  {
   "cell_type": "code",
   "execution_count": null,
   "metadata": {
    "collapsed": true,
    "scrolled": false
   },
   "outputs": [],
   "source": [
    "map_ = folium.Map([46.919393, 8.334115], tiles='cartodbpositron', zoom_start=8)\n",
    "\n",
    "unemployment_swiss_dict = swiss_unemployment_swiss_rates.set_index('Canton')['Taux de chômage (1 cav)']\n",
    "unemployment_foreign_dict = swiss_unemployment_foreign_rates.set_index('Canton')['Taux de chômage (1 cav)']\n",
    "\n",
    "foreign_mean = unemployment_foreign_dict.mean()\n",
    "swiss_mean = unemployment_swiss_dict.mean()\n",
    "\n",
    "foreign_min = unemployment_foreign_dict.min()\n",
    "swiss_min = unemployment_swiss_dict.min()\n",
    "\n",
    "foreign_max = unemployment_foreign_dict.max()\n",
    "swiss_max = unemployment_swiss_dict.max()\n",
    "\n",
    "\n",
    "unem_swiss_unem_foreign_color = '#ae017e'\n",
    "unem_swiss_em_foreign_color = '#fc4e2a'\n",
    "em_swiss_unem_foreign_color = '#1d91c0'\n",
    "em_swiss_em_foreign_color = '#fde0dd'\n",
    "\n",
    "\n",
    "\n",
    "def my_color_function(feature):\n",
    "    if unemployment_swiss_dict[feature['id']] > swiss_mean:\n",
    "        if unemployment_foreign_dict[feature['id']] > foreign_mean:\n",
    "            return unem_swiss_unem_foreign_color\n",
    "        else:\n",
    "            return unem_swiss_em_foreign_color\n",
    "    else:\n",
    "        if unemployment_foreign_dict[feature['id']] > foreign_mean:\n",
    "            return em_swiss_unem_foreign_color\n",
    "        else:\n",
    "            return em_swiss_em_foreign_color\n",
    "    \n",
    "\n",
    "folium.TopoJson(\n",
    "    swiss_json,\n",
    "    object_path ='objects.cantons',\n",
    "    style_function=lambda feature: {\n",
    "        'fillColor': my_color_function(feature),\n",
    "    }\n",
    ").add_to(map_)\n",
    "\n",
    "step = cm.StepColormap(\n",
    "    [em_swiss_em_foreign_color, unem_swiss_em_foreign_color],\n",
    "   vmin= swiss_min,vmax = swiss_max,\n",
    "    index=[swiss_min, swiss_mean,swiss_max],\n",
    "    caption='Unemployment rate of Swiss for low unemployment rate of Foreigners'\n",
    ").add_to(map_)\n",
    "\n",
    "step = cm.StepColormap(\n",
    "    [em_swiss_unem_foreign_color, unem_swiss_unem_foreign_color],\n",
    "    vmin= swiss_min,vmax = swiss_max,\n",
    "    index=[swiss_min, swiss_mean,swiss_max],\n",
    "    caption='Unemployment rate of Swiss for high unemployment rate of Foreigners'\n",
    ").add_to(map_)\n",
    "\n",
    "\n",
    "\n",
    "print(swiss_min, swiss_mean,swiss_max)\n",
    "map_"
   ]
  },
  {
   "cell_type": "code",
   "execution_count": null,
   "metadata": {
    "collapsed": true
   },
   "outputs": [],
   "source": []
  },
  {
   "cell_type": "code",
   "execution_count": null,
   "metadata": {
    "collapsed": true
   },
   "outputs": [],
   "source": []
  }
 ],
 "metadata": {
  "kernelspec": {
   "display_name": "Python 3",
   "language": "python",
   "name": "python3"
  },
  "language_info": {
   "codemirror_mode": {
    "name": "ipython",
    "version": 3
   },
   "file_extension": ".py",
   "mimetype": "text/x-python",
   "name": "python",
   "nbconvert_exporter": "python",
   "pygments_lexer": "ipython3",
   "version": "3.6.3"
  }
 },
 "nbformat": 4,
 "nbformat_minor": 2
}
