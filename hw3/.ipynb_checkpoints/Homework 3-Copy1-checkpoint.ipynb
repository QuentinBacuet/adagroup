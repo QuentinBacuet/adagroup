{
 "cells": [
  {
   "cell_type": "markdown",
   "metadata": {
    "collapsed": true
   },
   "source": [
    "# Interactive visualization"
   ]
  },
  {
   "cell_type": "code",
   "execution_count": null,
   "metadata": {},
   "outputs": [],
   "source": [
    "import os\n",
    "import pandas as pd\n",
    "import json\n",
    "import folium\n",
    "from IPython.display import display, HTML"
   ]
  },
  {
   "cell_type": "code",
   "execution_count": null,
   "metadata": {},
   "outputs": [],
   "source": [
    "europe_unemployment_data = pd.DataFrame.from_csv('data/europe_unemployment.tsv', sep='\\t', header=0)\n",
    "europe_unemployment_data.head()"
   ]
  },
  {
   "cell_type": "markdown",
   "metadata": {},
   "source": [
    "## Description taken from eurostat: \n",
    "\n",
    "Unemployment rates represent unemployed persons as a percentage of the labour force. The labour force is the total number of people employed and unemployed. Unemployed persons comprise persons aged 15 to 74 who were: a. without work during the reference week, b. currently available for work, i.e. were available for paid employment or self-employment before the end of the two weeks following the reference week, c. actively seeking work, i.e. had taken specific steps in the four weeks period ending with the reference week to seek paid employment or self-employment or who found a job to start later, i.e. within a period of, at most, three months. This table does not only show unemployment rates but also unemployed in 1000 and as % of the total population. "
   ]
  },
  {
   "cell_type": "code",
   "execution_count": null,
   "metadata": {},
   "outputs": [],
   "source": [
    "europe_unemployment_data_2016 = europe_unemployment_data[europe_unemployment_data.index.str.match(\".*PC_ACT.*\")]['2016 '].reset_index()\n",
    "\n",
    "europe_unemployment_data_2016.columns = ['Country', 'Rate']\n",
    "europe_unemployment_data_2016['Country'] = europe_unemployment_data_2016['Country'].str.extract('(..$)', expand=False)"
   ]
  },
  {
   "cell_type": "code",
   "execution_count": null,
   "metadata": {},
   "outputs": [],
   "source": [
    "europe_unemployment_data_2016.at[35, 'Country']= 'GB'"
   ]
  },
  {
   "cell_type": "code",
   "execution_count": null,
   "metadata": {},
   "outputs": [],
   "source": [
    "europe_json = json.load(open(\"topojson/europe.topojson.json\"))\n",
    "m = folium.Map([47.870833, 9.085721], tiles='cartodbpositron', zoom_start=4)\n",
    "m.choropleth(europe_json, \n",
    "             data=europe_unemployment_data_2016, \n",
    "             columns=['Country', 'Rate'], \n",
    "             key_on='feature.id', \n",
    "             fill_color='YlOrBr',\n",
    "             topojson='objects.europe',\n",
    "             )\n",
    "m"
   ]
  },
  {
   "cell_type": "markdown",
   "metadata": {},
   "source": [
    "# 2 Swiss unemployment data\n",
    "## 2.a Counting people with jobs, looking for another job"
   ]
  },
  {
   "cell_type": "code",
   "execution_count": null,
   "metadata": {},
   "outputs": [],
   "source": [
    "swiss_unemployment_data = pd.read_csv('data/swiss_unemployment_total.csv')\n",
    "swiss_unemployment_rates = swiss_unemployment_data.copy()[['Canton','Taux de chômage (1 cav)']]\n",
    "swiss_unemployment_rates.head()"
   ]
  },
  {
   "cell_type": "code",
   "execution_count": null,
   "metadata": {},
   "outputs": [],
   "source": [
    "cantons_dict = {'Zurich': 'ZH', 'Berne': 'BE','Lucerne':'LU','Uri':'UR','Schwyz':'SZ',\n",
    "    'Obwald':'OW','Nidwald':'NW','Glaris':'GL','Zoug':'ZG','Fribourg':'FR',\n",
    "    'Soleure':'SO','Bâle-Ville':'BS','Bâle-Campagne':'BL','Schaffhouse':'SH',\n",
    "    'Appenzell Rhodes-Extérieures':'AR','Appenzell Rhodes-Intérieures':'AI',\n",
    "    'St-Gall':'SG','Grisons':'GR','Argovie':'AG','Thurgovie':'TG','Tessin':'TI',\n",
    "    'Vaud':'VD','Valais':'VS','Neuchâtel':'NE','Genève':'GE','Jura':'JU'}\n",
    "\n",
    "swiss_unemployment_rates.Canton.replace(cantons_dict, inplace=True)"
   ]
  },
  {
   "cell_type": "code",
   "execution_count": null,
   "metadata": {},
   "outputs": [],
   "source": [
    "swiss_json = json.load(open(\"topojson/ch-cantons.topojson.json\"))\n",
    "\n",
    "map_ = folium.Map([46.819393, 8.333115], tiles='cartodbpositron', zoom_start=8)\n",
    "map_.choropleth(swiss_json, \n",
    "             data=swiss_unemployment_rates, \n",
    "             columns=['Canton', 'Taux de chômage (1 cav)'], \n",
    "             key_on='feature.id', \n",
    "             fill_color='YlOrBr',\n",
    "             topojson='objects.cantons'\n",
    "             )\n",
    "map_"
   ]
  },
  {
   "cell_type": "markdown",
   "metadata": {},
   "source": [
    "## 2.b Unemployment, without people with job"
   ]
  },
  {
   "cell_type": "code",
   "execution_count": null,
   "metadata": {
    "collapsed": true
   },
   "outputs": [],
   "source": []
  },
  {
   "cell_type": "markdown",
   "metadata": {},
   "source": [
    "# 3 Swiss unemployment, split by nationality"
   ]
  },
  {
   "cell_type": "code",
   "execution_count": null,
   "metadata": {
    "collapsed": true
   },
   "outputs": [],
   "source": []
  }
 ],
 "metadata": {
  "kernelspec": {
   "display_name": "Python [default]",
   "language": "python",
   "name": "python3"
  },
  "language_info": {
   "codemirror_mode": {
    "name": "ipython",
    "version": 3
   },
   "file_extension": ".py",
   "mimetype": "text/x-python",
   "name": "python",
   "nbconvert_exporter": "python",
   "pygments_lexer": "ipython3",
   "version": "3.5.3"
  }
 },
 "nbformat": 4,
 "nbformat_minor": 2
}
