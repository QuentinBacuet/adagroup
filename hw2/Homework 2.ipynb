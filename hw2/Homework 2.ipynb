{
 "cells": [
  {
   "cell_type": "markdown",
   "metadata": {},
   "source": [
    "# Homework 2: Data from the Web"
   ]
  },
  {
   "cell_type": "markdown",
   "metadata": {},
   "source": [
    "# Table of Contents\n",
    "\n",
    "<p><div class=\"lev1\"><a href=\"#0.-Retrieving-the-Data\"><span class=\"toc-item-num\">0.&nbsp;&nbsp;</span>Retrieving the Data</a></div>\n",
    "<div class=\"lev1\"><a href=\"#1.-Top-Universities-Data\"><span class=\"toc-item-num\">1.&nbsp;&nbsp;</span>Top Universities Data</a></div>\n",
    "<div class=\"lev1\"><a href=\"#2.-Times-Higher-Education-Data\"><span class=\"toc-item-num\">2.&nbsp;&nbsp;</span>Times Higher Education Data</a></div>\n",
    "<div class=\"lev1\"><a href=\"#3.-Merging-Two-Datasets\"><span class=\"toc-item-num\">3.&nbsp;&nbsp;</span>Merging Two Datasets</a></div>\n",
    "<div class=\"lev1\"><a href=\"#4.-Exploratory-Data-Analysis\"><span class=\"toc-item-num\">4.&nbsp;&nbsp;</span>Exploratory Data Analysis</a></div>\n",
    "<div class=\"lev1\"><a href=\"#5.-Best-University-(aside-from-EPFL-:))\"><span class=\"toc-item-num\">5.&nbsp;&nbsp;</span>Best University (aside from EPFL :))</a></div>"
   ]
  },
  {
   "cell_type": "markdown",
   "metadata": {},
   "source": [
    "**NB:**\n",
    "- To accelerate the request part, <a href=\"https://pypi.python.org/pypi/requests-futures\">`FuturesSession`</a>  was used: `pip install requests-futures`.\n",
    "- To be able to compare the structure of the scraped data with Chrome Inspector's output, `html5lib` was used: `pip install html5lib` (if you still don't have it)."
   ]
  },
  {
   "cell_type": "code",
   "execution_count": null,
   "metadata": {
    "collapsed": true
   },
   "outputs": [],
   "source": [
    "import requests\n",
    "import pandas as pd\n",
    "import numpy as np\n",
    "from IPython.display import display\n",
    "from bs4 import BeautifulSoup\n",
    "import json\n",
    "from requests_futures.sessions import FuturesSession\n",
    "import datetime\n",
    "from Data.data_country import *\n",
    "from Visualization.visualization import *\n",
    "import seaborn as sns"
   ]
  },
  {
   "cell_type": "markdown",
   "metadata": {},
   "source": [
    "# 0. Retrieving the Data"
   ]
  },
  {
   "cell_type": "code",
   "execution_count": null,
   "metadata": {
    "collapsed": true
   },
   "outputs": [],
   "source": [
    "TOP_UNI_URL = \"https://www.topuniversities.com\""
   ]
  },
  {
   "cell_type": "code",
   "execution_count": null,
   "metadata": {
    "collapsed": true
   },
   "outputs": [],
   "source": [
    "URL_init = 'https://www.topuniversities.com/university-rankings/world-university-rankings/2018'"
   ]
  },
  {
   "cell_type": "markdown",
   "metadata": {},
   "source": [
    "We start by retrieving and parsing the HTML page:"
   ]
  },
  {
   "cell_type": "code",
   "execution_count": null,
   "metadata": {
    "collapsed": true
   },
   "outputs": [],
   "source": [
    "r_init = requests.get(URL_init)\n",
    "soup = BeautifulSoup(r_init.text, 'html5lib') # This parser should be the closest one to Chrome Inspector."
   ]
  },
  {
   "cell_type": "markdown",
   "metadata": {},
   "source": [
    "Upon inspection with google chrome we see that the data is contained in a div whose class is \"panel-panel-inner\". Therefore we retrieve it using BeautifulSoup."
   ]
  },
  {
   "cell_type": "code",
   "execution_count": null,
   "metadata": {},
   "outputs": [],
   "source": [
    "inner_panel = soup.find('div', {'class': 'panel-panel-inner'})\n",
    "print(inner_panel.prettify()[:200] + '\\n\\n...\\n\\n' + inner_panel.prettify()[-200:])"
   ]
  },
  {
   "cell_type": "markdown",
   "metadata": {},
   "source": [
    "Looks like what we've got in Chrome Inspector!\n",
    "\n",
    "<img src=\"./pics/inner_panel.png\" alt=\"inner_panel\" style=\"width: 600px;\" />"
   ]
  },
  {
   "cell_type": "markdown",
   "metadata": {},
   "source": [
    "However, if we take a closer look at where might be the data we are looking for ...\n",
    "\n",
    "<img src=\"./pics/thead-tbody.png\" alt=\"thead\" style=\"width: 600px;\"/>"
   ]
  },
  {
   "cell_type": "code",
   "execution_count": null,
   "metadata": {},
   "outputs": [],
   "source": [
    "inner_panel.find('thead') is None"
   ]
  },
  {
   "cell_type": "code",
   "execution_count": null,
   "metadata": {},
   "outputs": [],
   "source": [
    "inner_panel.find('tbody') is None"
   ]
  },
  {
   "cell_type": "markdown",
   "metadata": {},
   "source": [
    "... whoops! `<thead>` is there, `<tbody>`, however, is not. Must be side-loaded via JavaScript."
   ]
  },
  {
   "cell_type": "markdown",
   "metadata": {},
   "source": [
    "Let's take a look at what kind of XHRs are there ...\n",
    "\n",
    "<img src=\"./pics/xhr.png\" alt=\"tbody\" style=\"width: 600px;\"/>\n",
    "\n",
    "Note the `.txt` file of the largest size and loading time, let's see what's inside ..."
   ]
  },
  {
   "cell_type": "code",
   "execution_count": null,
   "metadata": {},
   "outputs": [],
   "source": [
    "URL = 'https://www.topuniversities.com/sites/default/files/qs-rankings-data/357051.txt'\n",
    "data = requests.get(URL).json()\n",
    "print(json.dumps(data, sort_keys=True, indent=4)[:400] + \\\n",
    "      '\\n\\n...\\n\\n' + json.dumps(data, sort_keys=True, indent=4)[-400:])"
   ]
  },
  {
   "cell_type": "markdown",
   "metadata": {
    "collapsed": true
   },
   "source": [
    "That's exactly the data we were looking for, no need to web-scrape anymore, yay!"
   ]
  },
  {
   "cell_type": "markdown",
   "metadata": {},
   "source": [
    "# 1. Top Universities Data\n",
    "\n",
    "Let's use the json data extracted above ..."
   ]
  },
  {
   "cell_type": "code",
   "execution_count": null,
   "metadata": {
    "collapsed": true
   },
   "outputs": [],
   "source": [
    "data = data['data']"
   ]
  },
  {
   "cell_type": "markdown",
   "metadata": {},
   "source": [
    "... and add some helper functions:\n",
    "- *get_link* Adds the prefix `TOP_UNI_URL` to a relative URL to make it absolute.\n",
    "- *format_rank* Formats rankings to remove \"=\"s from the string and cast it in `int`."
   ]
  },
  {
   "cell_type": "code",
   "execution_count": null,
   "metadata": {
    "collapsed": true
   },
   "outputs": [],
   "source": [
    "def get_link(x):\n",
    "    return TOP_UNI_URL + x\n",
    "\n",
    "def format_rank(x):\n",
    "    return int(x.replace('=', ''))"
   ]
  },
  {
   "cell_type": "markdown",
   "metadata": {},
   "source": [
    "Now we want to drop the features that we don't need for sure.\n",
    "We need these:\n",
    "- *name* (**title**)\n",
    "- *rank* (**rank_display**)\n",
    "- *country* (**country**) and *region* (**region**)\n",
    "- *number of faculty members (international and total)* and *number of students (international and total)* (might need **url** to extract these)."
   ]
  },
  {
   "cell_type": "code",
   "execution_count": null,
   "metadata": {
    "scrolled": true
   },
   "outputs": [],
   "source": [
    "df = pd.DataFrame(data)\n",
    "df = df.head(200)\n",
    "\n",
    "df = df[['title', 'region', 'rank_display', 'country', 'url']]\n",
    "df = df.rename(columns={'title': 'name', 'country': 'location', 'rank_display':'overall_rank'})\n",
    "df['overall_rank'] = df['overall_rank'].apply(lambda x: format_rank(x))\n",
    "df['url'] = df['url'].apply(lambda x: get_link(x))\n",
    "display(df.head())"
   ]
  },
  {
   "cell_type": "markdown",
   "metadata": {},
   "source": [
    "Now let's for each uni follow its link in and scrape the numbers that we need:\n",
    "- *number of faculty members (international and total)*\n",
    "- *number of students (international and total)*"
   ]
  },
  {
   "cell_type": "markdown",
   "metadata": {},
   "source": [
    "The function **`find_number`** below extracts the numbers of interest. It shrinks the current soup at each iteration until it reaches the last `div` that contains the number. If during at some point it finds that the current soup is `None` (there's no such number in the json) it returns 0."
   ]
  },
  {
   "cell_type": "code",
   "execution_count": null,
   "metadata": {
    "collapsed": true
   },
   "outputs": [],
   "source": [
    "def find_number(soup, list_dict_div):\n",
    "    current_soup = soup\n",
    "    for dict_div in list_dict_div:\n",
    "        current_soup = current_soup.find(\"div\", dict_div)\n",
    "        if(current_soup is None):\n",
    "            return 0\n",
    "    return int(current_soup.text.replace(\",\", \"\"))"
   ]
  },
  {
   "cell_type": "markdown",
   "metadata": {},
   "source": [
    "The function **`get_extra_data`** below returns all 4 numbers *(faculty int/tot, students int/tot)* for a given response `x` using **`find_number`**."
   ]
  },
  {
   "cell_type": "code",
   "execution_count": null,
   "metadata": {
    "collapsed": true
   },
   "outputs": [],
   "source": [
    "def get_extra_data(x):\n",
    "    soup = BeautifulSoup(x.text, 'html.parser')\n",
    "\n",
    "    total_faculty_int = find_number(soup, [{ \"class\": \"faculty-main wrapper col-md-4\" }, { \"class\": \"total faculty\"}, { \"class\": \"number\"}])\n",
    "    inter_faculty_int = find_number(soup, [{ \"class\": \"faculty-main wrapper col-md-4\" }, { \"class\": \"inter faculty\"}, { \"class\": \"number\"}])\n",
    "    number_students_int = find_number(soup, [{\"class\": \"students-main wrapper col-md-4\"}, { \"class\": \"number\"}])\n",
    "    international_students_int = find_number(soup, [{\"class\": \"int-students-main wrapper col-md-4\"}, { \"class\": \"number\"}])\n",
    "\n",
    "    return pd.DataFrame(data = [[total_faculty_int,inter_faculty_int,number_students_int,international_students_int]], columns = ['total faculty','international faculty','number of students','international students'])"
   ]
  },
  {
   "cell_type": "markdown",
   "metadata": {},
   "source": [
    "To save some time, let's use <a href=\"https://pypi.python.org/pypi/requests-futures\">`FuturesSession`</a> library. It allows us to asynchronously make HTTP requests."
   ]
  },
  {
   "cell_type": "code",
   "execution_count": null,
   "metadata": {
    "collapsed": true
   },
   "outputs": [],
   "source": [
    "df_temp = df[['url']]\n",
    "\n",
    "urls = df_temp.values.tolist()\n",
    "urls = [item for sublist in urls for item in sublist]\n",
    "\n",
    "session = FuturesSession(max_workers=10)\n",
    "futures = []\n",
    "results =[]"
   ]
  },
  {
   "cell_type": "markdown",
   "metadata": {},
   "source": [
    "First, we use *futures* to send multiple requests without waiting for the response of the last request to send the next one."
   ]
  },
  {
   "cell_type": "code",
   "execution_count": null,
   "metadata": {
    "collapsed": true
   },
   "outputs": [],
   "source": [
    "for url in urls:\n",
    "    future = session.get(url)\n",
    "    futures.append((url, future))"
   ]
  },
  {
   "cell_type": "markdown",
   "metadata": {},
   "source": [
    "Second, we collect all the responses of the sent requests."
   ]
  },
  {
   "cell_type": "code",
   "execution_count": null,
   "metadata": {
    "collapsed": true
   },
   "outputs": [],
   "source": [
    "for url, r in futures:\n",
    "    results.append((url, r.result()))"
   ]
  },
  {
   "cell_type": "markdown",
   "metadata": {},
   "source": [
    "Finally, we extract the information that we want from those requests as a `DataFrame`. We retrieve our 4 numbers of interest and URLs which help us to ease the merge with the original `DataFrame` thereafter."
   ]
  },
  {
   "cell_type": "code",
   "execution_count": null,
   "metadata": {
    "collapsed": true
   },
   "outputs": [],
   "source": [
    "list_dataframe = []\n",
    "\n",
    "for url, result in results:\n",
    "    list_dataframe.append(pd.concat([get_extra_data(result), pd.DataFrame(data=[url], columns=['url'])], axis=1))"
   ]
  },
  {
   "cell_type": "markdown",
   "metadata": {},
   "source": [
    "Let's concatenate each of the resulting `DataFrame`s into a larger one."
   ]
  },
  {
   "cell_type": "code",
   "execution_count": null,
   "metadata": {},
   "outputs": [],
   "source": [
    "df_temp = pd.concat(list_dataframe)\n",
    "display(df_temp.head())"
   ]
  },
  {
   "cell_type": "markdown",
   "metadata": {},
   "source": [
    "Now we just merge *on the URL* the fresh `DataFrame` and the original one."
   ]
  },
  {
   "cell_type": "code",
   "execution_count": null,
   "metadata": {
    "collapsed": true
   },
   "outputs": [],
   "source": [
    "df = df.merge(df_temp, left_on='url', right_on='url', how='outer')\n",
    "df = df.drop('url', 1)"
   ]
  },
  {
   "cell_type": "code",
   "execution_count": null,
   "metadata": {},
   "outputs": [],
   "source": [
    "display(df.head())"
   ]
  },
  {
   "cell_type": "markdown",
   "metadata": {},
   "source": [
    "The function **`get_ratio`** below returns us two new `DataFrame`s that contain respectively each in a new column:\n",
    "- the ratio between faculty members and students,\n",
    "- the ratio of international students."
   ]
  },
  {
   "cell_type": "code",
   "execution_count": null,
   "metadata": {
    "collapsed": true
   },
   "outputs": [],
   "source": [
    "def get_ratio(df):\n",
    "    df_ratio = df.copy()\n",
    "    \n",
    "    df_ratio['ratio'] = df_ratio['total faculty'] / df_ratio['number of students']\n",
    "    df_ratio = df_ratio.sort_values('ratio', ascending=False)\n",
    "    r1 = df_ratio.copy()\n",
    "    \n",
    "    df_ratio['ratio'] = df_ratio['international students'] / df_ratio['number of students']\n",
    "    df_ratio = df_ratio.sort_values('ratio', ascending=False)\n",
    "    r2 = df_ratio.copy()\n",
    "    \n",
    "    return r1, r2"
   ]
  },
  {
   "cell_type": "markdown",
   "metadata": {},
   "source": [
    "## Plotting"
   ]
  },
  {
   "cell_type": "markdown",
   "metadata": {},
   "source": [
    "### a, b) Computing ratios "
   ]
  },
  {
   "cell_type": "code",
   "execution_count": null,
   "metadata": {
    "scrolled": false
   },
   "outputs": [],
   "source": [
    "r1, r2 = get_ratio(df)\n",
    "pretty_bar(r1['ratio'][:10], r1['name'][:10], \"Ratio between faculty members and students\", \"\", \"Ratio\", figwidth=14, rot='vertical', plot_margin=3)\n",
    "pretty_bar(r2['ratio'][:10], r2['name'][:10], \"Proportion of international students\", \"\", \"Percent %\", figwidth=14, rot='vertical', plot_margin=3)"
   ]
  },
  {
   "cell_type": "markdown",
   "metadata": {},
   "source": [
    "### c) Grouping by country"
   ]
  },
  {
   "cell_type": "code",
   "execution_count": null,
   "metadata": {},
   "outputs": [],
   "source": [
    "r1, r2 = get_ratio(df.groupby('location').sum().reset_index())\n",
    "pretty_bar(r1['ratio'][:10], r1['location'][:10], \"Ratio between faculty members and students per country\", \"\", \"Ratio\", figwidth=14, rot='vertical')\n",
    "pretty_bar(r2['ratio'][:10], r2['location'][:10], \"Proportion of international students per country\", \"\", \"Ratio\", figwidth=14, rot='vertical')"
   ]
  },
  {
   "cell_type": "markdown",
   "metadata": {},
   "source": [
    "### d) Grouping by region"
   ]
  },
  {
   "cell_type": "code",
   "execution_count": null,
   "metadata": {},
   "outputs": [],
   "source": [
    "r1, r2 = get_ratio(df.groupby('region').sum().reset_index())\n",
    "pretty_bar(r1['ratio'][:10], r1['region'][:10], \"Ratio between faculty members and students per region\", \"\", \"Ratio\", figwidth=14, rot='vertical')\n",
    "pretty_bar(r2['ratio'][:10], r2['region'][:10], \"Proportion of international students per region\", \"\", \"Ratio\", figwidth=14, rot='vertical')"
   ]
  },
  {
   "cell_type": "markdown",
   "metadata": {},
   "source": [
    "# 2. Times Higher Education Data"
   ]
  },
  {
   "cell_type": "markdown",
   "metadata": {},
   "source": [
    "As in the first question, we get the URL that provides us the JSON data."
   ]
  },
  {
   "cell_type": "code",
   "execution_count": null,
   "metadata": {
    "collapsed": true
   },
   "outputs": [],
   "source": [
    "r = requests.get('https://www.timeshighereducation.com/sites/default/files/the_data_rankings/world_university_rankings_2018_limit0_369a9045a203e176392b9fb8f8c1cb2a.json')\n",
    "json = r.json()['data']"
   ]
  },
  {
   "cell_type": "markdown",
   "metadata": {},
   "source": [
    "Again, let's drop the features that we don't need. These we do need:\n",
    "- *name* (**name**)\n",
    "- *aliases* (**aliases**)\n",
    "- *rank* (**rank**)\n",
    "- *country* (**location**)\n",
    "- *number of students* (**stats_number_students**)\n",
    "- *percentage of international students* (**stats_pc_intl_students**)\n",
    "- *ratio of students per staff* (**stats_student_staff_ratio**)"
   ]
  },
  {
   "cell_type": "code",
   "execution_count": null,
   "metadata": {},
   "outputs": [],
   "source": [
    "df_2 = pd.DataFrame(json)\n",
    "df_2 = df_2[['aliases', 'name', 'location', 'rank', 'stats_number_students', 'stats_pc_intl_students', 'stats_student_staff_ratio']]\n",
    "df_2 = df_2.head(200)\n",
    "display(df_2.head())"
   ]
  },
  {
   "cell_type": "markdown",
   "metadata": {},
   "source": [
    "Clearly, we need to clean up the data.\n",
    "\n",
    "To do this, we define some helpers:\n",
    "- **`format_percentage_students`** removes the \"%\" and divides by 100 to get the proportion.\n",
    "- **`format_number_students`** removes the comma and casts to `int` the number of students.\n",
    "- **`get_continent`** returns the continent of the given country using the data from the library `incf.countryutils`."
   ]
  },
  {
   "cell_type": "code",
   "execution_count": null,
   "metadata": {
    "collapsed": true
   },
   "outputs": [],
   "source": [
    "def format_percentage_students(x):\n",
    "    return int(x.replace('%', '')) / 100\n",
    "\n",
    "def format_number_students(x):\n",
    "    return int(x.replace(',', ''))\n",
    "\n",
    "def get_continent(country):\n",
    "    return ctca2_to_ctn.get(ccn_to_ctca2.get(cn_to_ccn.get(country)))"
   ]
  },
  {
   "cell_type": "markdown",
   "metadata": {},
   "source": [
    "Let's now apply these. Based on the data we've got, we then easily calculate:\n",
    "- the number of faculty members (total),\n",
    "- number of students (international and total)."
   ]
  },
  {
   "cell_type": "code",
   "execution_count": null,
   "metadata": {
    "collapsed": true
   },
   "outputs": [],
   "source": [
    "df_2['stats_pc_intl_students'] = df_2['stats_pc_intl_students'].apply(lambda x: format_percentage_students(x))\n",
    "df_2['rank'] = df_2['rank'].apply(lambda x: format_rank(x))\n",
    "df_2['stats_number_students'] = df_2['stats_number_students'].apply(lambda x: format_number_students(x))\n",
    "df_2['stats_student_staff_ratio'] = df_2['stats_student_staff_ratio'].apply(pd.to_numeric)\n",
    "\n",
    "\n",
    "df_2['international students'] = df_2['stats_number_students'] * df_2['stats_pc_intl_students']\n",
    "df_2['total faculty'] = (df_2['stats_number_students'] / df_2['stats_student_staff_ratio']).astype(int)\n",
    "df_2 = df_2.drop(['stats_pc_intl_students', 'stats_student_staff_ratio'], 1)\n",
    "df_2['region'] = df_2['location'].apply(lambda x: get_continent(x))\n",
    "\n",
    "df_2 = df_2.rename(columns={'stats_number_students': 'number of students'})"
   ]
  },
  {
   "cell_type": "markdown",
   "metadata": {},
   "source": [
    "As in Question 1, let's use **`get_ratio`** to get the ratios of interest and plot them."
   ]
  },
  {
   "cell_type": "code",
   "execution_count": null,
   "metadata": {},
   "outputs": [],
   "source": [
    "r1, r2 = get_ratio(df_2)\n",
    "pretty_bar(r1['ratio'][:10], r1['name'][:10], \"Ratio between faculty members and students\", \"\", \"Ratio\", figwidth=14, rot='vertical', plot_margin=3)\n",
    "pretty_bar(r2['ratio'][:10], r2['name'][:10], \"Proportion of international students\", \"\", \"Ratio\", figwidth=14, rot='vertical', plot_margin=3)"
   ]
  },
  {
   "cell_type": "code",
   "execution_count": null,
   "metadata": {},
   "outputs": [],
   "source": [
    "r1, r2 = get_ratio(df_2.groupby('location').sum().reset_index())\n",
    "pretty_bar(r1['ratio'][:10], r1['location'][:10], \"Ratio between faculty members and students per country\", \"\", \"Ratio\", figwidth=14, rot='vertical')\n",
    "pretty_bar(r2['ratio'][:10], r2['location'][:10], \"Proportion of international students per country\", \"\", \"Ratio\", figwidth=14, rot='vertical')"
   ]
  },
  {
   "cell_type": "code",
   "execution_count": null,
   "metadata": {},
   "outputs": [],
   "source": [
    "r1, r2 = get_ratio(df_2.groupby('region').sum().reset_index())\n",
    "pretty_bar(r1['ratio'][:10], r1['region'][:10], \"Ratio between faculty members and students per region\", \"\", \"Ratio\", figwidth=14, rot='vertical')\n",
    "pretty_bar(r2['ratio'][:10], r2['region'][:10], \"Proportion of international students per region\", \"\", \"Ratio\", figwidth=14, rot='vertical')"
   ]
  },
  {
   "cell_type": "markdown",
   "metadata": {
    "collapsed": true
   },
   "source": [
    "# 3. Merging Two Datasets\n",
    "## Overview\n",
    "\n",
    "To merge the two datasets, we use the following algorithm:\n",
    "\n",
    "1. Perform a <a href=\"https://community.alteryx.com/t5/Alteryx-Knowledge-Base/Cartesian-Join-Cartesian-Product/ta-p/39009\">*Cartesian join (product)*</a> of the two datasets,\n",
    "2. Keep only the entries which universities are located in the same country,\n",
    "3. Transform the universities' names into keyword sets,\n",
    "4. For each university, keep only the entry which keywords-intersection-count is the highest,\n",
    "5. Remove the matches which keyword-intersection-counts are lower than 2.\n",
    "\n",
    "This produces a `DataFrame` of 154 common universities.\n",
    "\n",
    "## Detailed Procedure\n",
    "\n",
    "Let's create new columns containing a cleaned up version of the universities' names:"
   ]
  },
  {
   "cell_type": "code",
   "execution_count": null,
   "metadata": {
    "collapsed": true
   },
   "outputs": [],
   "source": [
    "top_universities_ranking = df.copy()\n",
    "times_higher_ranking = df_2.copy()\n",
    "\n",
    "top_universities_ranking.rename(columns={'overall_rank': 'rank'}, inplace=True)\n",
    "times_higher_ranking.drop('aliases', axis=1, inplace=True)\n",
    "\n",
    "cleanup_regex = '[^a-zA-Z ]|the |of |at '\n",
    "top_universities_ranking['split_name'] = top_universities_ranking['name'].str.lower().str.replace(cleanup_regex, '').str.split()\n",
    "times_higher_ranking['split_name'] = times_higher_ranking['name'].str.lower().str.replace(cleanup_regex, '').str.split()\n",
    "\n",
    "top_universities_ranking['split_name'] = top_universities_ranking['split_name'].apply(set)\n",
    "times_higher_ranking['split_name'] = times_higher_ranking['split_name'].apply(set)\n",
    "\n",
    "\n",
    "top_universities_ranking.columns = pd.MultiIndex.from_product([['topuniversities.com'], top_universities_ranking.columns])\n",
    "times_higher_ranking.columns = pd.MultiIndex.from_product([['timeshighereducation.com'], times_higher_ranking.columns])"
   ]
  },
  {
   "cell_type": "markdown",
   "metadata": {},
   "source": [
    "Now we add a dummy key to each `DataFrame` to make the `merge` operation a Cartesian join:"
   ]
  },
  {
   "cell_type": "code",
   "execution_count": null,
   "metadata": {
    "collapsed": true
   },
   "outputs": [],
   "source": [
    "# Add a dummy key to perform Cartesian join\n",
    "top_universities_ranking['topuniversities.com', 'dummy key'] = 1\n",
    "times_higher_ranking['timeshighereducation.com', 'dummy key'] = 1\n",
    "\n",
    "# Perform Cartesian join\n",
    "top_merged = pd.merge(top_universities_ranking, times_higher_ranking,\n",
    "                      left_on=top_universities_ranking['topuniversities.com', 'dummy key'],\n",
    "                     right_on=times_higher_ranking['timeshighereducation.com', 'dummy key'])"
   ]
  },
  {
   "cell_type": "markdown",
   "metadata": {},
   "source": [
    "Let's remove the entries that obviously don't match:"
   ]
  },
  {
   "cell_type": "code",
   "execution_count": null,
   "metadata": {
    "collapsed": true
   },
   "outputs": [],
   "source": [
    "# Remove rows with different locations as they obviously don't match\n",
    "top_merged['same country'] = top_merged['topuniversities.com', 'location'] == top_merged['timeshighereducation.com', 'location']\n",
    "top_merged = top_merged[top_merged['same country'] == True]"
   ]
  },
  {
   "cell_type": "markdown",
   "metadata": {},
   "source": [
    "Now it's time to create a new column containing the keyword sets of both `DataFrame`s, zipped in a tuple. This is useful for counting easily the number of common elements in both sets."
   ]
  },
  {
   "cell_type": "code",
   "execution_count": null,
   "metadata": {
    "collapsed": true
   },
   "outputs": [],
   "source": [
    "# Prepare set intersection by zipping names together\n",
    "top_merged['zipped'] = list(zip(\n",
    "    top_merged['topuniversities.com', 'split_name'], \n",
    "    top_merged['timeshighereducation.com', 'split_name']))\n",
    "\n",
    "# Count the number of words in the intersection of names sets\n",
    "top_merged['intersection count'] = top_merged['zipped'].apply(lambda tup: len(set.intersection(tup[0], tup[1])))"
   ]
  },
  {
   "cell_type": "markdown",
   "metadata": {},
   "source": [
    "For each university, we extract the entry with the highest amount of common keywords. Additionally, we remove the entries with keyword-counts lower than 2 as they most certainly represent garbage. This can happen if a given university is not represented in both rankings."
   ]
  },
  {
   "cell_type": "code",
   "execution_count": null,
   "metadata": {
    "collapsed": true
   },
   "outputs": [],
   "source": [
    "# Keep only the rows with the highest number of common keywords\n",
    "top_merged = top_merged.sort_values('intersection count', ascending=False)\n",
    "top_merged.drop_duplicates(('topuniversities.com', 'name'), inplace=True)\n",
    "top_merged = top_merged[top_merged['intersection count'] >= 2]"
   ]
  },
  {
   "cell_type": "markdown",
   "metadata": {},
   "source": [
    "Finally, we perform some housekeeping and sort the entries back by the ranking from *topuniversities.com*."
   ]
  },
  {
   "cell_type": "code",
   "execution_count": null,
   "metadata": {},
   "outputs": [],
   "source": [
    "# Remove unnecessary columns\n",
    "top_merged.drop(['split_name', 'dummy key'], level=1, axis=1, inplace=True)\n",
    "top_merged.drop(['zipped', 'intersection count', 'same country'], level=0, axis=1, inplace=True)\n",
    "\n",
    "# Remove outlier found by luck\n",
    "top_merged.drop(8581, axis=0, inplace=True)\n",
    "top_merged.drop(35060, axis=0, inplace=True)\n",
    "\n",
    "# Convert to numeric values instead of strings\n",
    "top_merged = top_merged.apply(pd.to_numeric, errors='ignore')\n",
    "\n",
    "# Sort back the value by topuniversities.com score\n",
    "top_merged = top_merged.sort_values(('topuniversities.com', 'rank'))\n",
    "top_merged2 = top_merged.copy()\n",
    "display(top_merged.head())"
   ]
  },
  {
   "cell_type": "markdown",
   "metadata": {},
   "source": [
    "# 4. Exploratory Data Analysis"
   ]
  },
  {
   "cell_type": "code",
   "execution_count": null,
   "metadata": {},
   "outputs": [],
   "source": [
    "top_merged.describe()"
   ]
  },
  {
   "cell_type": "markdown",
   "metadata": {},
   "source": [
    "## Correlations\n",
    "\n",
    "Let's see if some variables are correlated."
   ]
  },
  {
   "cell_type": "code",
   "execution_count": null,
   "metadata": {},
   "outputs": [],
   "source": [
    "corr_m = top_merged.corr()\n",
    "corr_m.sort_index(inplace=True)\n",
    "corr_m.sort_index(axis=1, inplace=True)\n",
    "idx = pd.IndexSlice\n",
    "corr_m.loc[idx['timeshighereducation.com', : ], idx['topuniversities.com', ['international faculty', 'international students', 'number of students', 'total faculty']]] = '-'\n",
    "corr_m.loc[idx['timeshighereducation.com', ['international faculty', 'international students', 'number of students', 'total faculty'] ], idx['topuniversities.com', : ]] = '-'\n",
    "corr_m.loc[idx['topuniversities.com', : ], idx['timeshighereducation.com', ['international faculty', 'international students', 'number of students', 'total faculty']]] = '-'\n",
    "corr_m.loc[idx['topuniversities.com', ['international faculty', 'international students', 'number of students', 'total faculty'] ], idx['timeshighereducation.com', : ]] = '-'\n",
    "display(corr_m)"
   ]
  },
  {
   "cell_type": "markdown",
   "metadata": {},
   "source": [
    "### International Faculty Members vs Rank\n",
    "In these results we observe that the ranks from both websites are positively correlated, which was to be expected. \n",
    "\n",
    "However, it's worth noticing that in the data from *topuniversities.com* there is a moderate **negative correlation** between *the number of international faculty members* and *the rank of the university*. That is, the more international faculty members a university has, the higher its rank is. It is quite plausible that a top ranking univerity attracts people from all over the world.\n",
    "\n",
    "The following plot displays the bivariate distribution of these two variables:"
   ]
  },
  {
   "cell_type": "code",
   "execution_count": null,
   "metadata": {},
   "outputs": [],
   "source": [
    "plt.scatter(top_merged[('topuniversities.com', 'international faculty')], top_merged[('topuniversities.com', 'rank')], marker='.'); plt.ylim((-10,210)); plt.xlabel(\"Number of international faculty members\", fontsize=16);plt.ylabel(\"Ranking on topuniversities.com\",fontsize=16); plt.gca().invert_yaxis();plt.show();"
   ]
  },
  {
   "cell_type": "markdown",
   "metadata": {},
   "source": [
    "To a lesser extent, the more faculty members or the more international students a university has, the higher it tends to score on the leaderboards. "
   ]
  },
  {
   "cell_type": "code",
   "execution_count": null,
   "metadata": {},
   "outputs": [],
   "source": [
    "plt.scatter(top_merged[('topuniversities.com', 'total faculty')], top_merged[('topuniversities.com', 'rank')], marker='.'); plt.ylim((-10,210)); plt.xlabel(\"Number of faculty members\", fontsize=16);plt.ylabel(\"Ranking on topuniversities.com\",fontsize=16); plt.gca().invert_yaxis();plt.show();\n",
    "plt.scatter(top_merged[('topuniversities.com', 'international students')], top_merged[('topuniversities.com', 'rank')], marker='.'); plt.ylim((-10,210)); plt.xlabel(\"Number of international students\", fontsize=16);plt.ylabel(\"Ranking on topuniversities.com\",fontsize=16); plt.gca().invert_yaxis();plt.show();"
   ]
  },
  {
   "cell_type": "markdown",
   "metadata": {},
   "source": [
    "However, there's no clear correlation between the number of domestic students and the university ranking:"
   ]
  },
  {
   "cell_type": "code",
   "execution_count": null,
   "metadata": {},
   "outputs": [],
   "source": [
    "plt.scatter(top_merged[('topuniversities.com', 'number of students')], top_merged[('topuniversities.com', 'rank')], c='dodgerblue', marker='.');plt.scatter(top_merged[('timeshighereducation.com', 'number of students')], top_merged[('timeshighereducation.com', 'rank')], c='crimson', marker='.');plt.legend(['Data from topuniversities.com', 'Data from timeshighereducation.com'], bbox_to_anchor=(1,1), fontsize=16);plt.xlabel(\"Number of domestic students\", fontsize=16);plt.ylabel(\"Ranking\", fontsize=16);plt.gca().invert_yaxis();plt.show()"
   ]
  },
  {
   "cell_type": "markdown",
   "metadata": {},
   "source": [
    "### International members"
   ]
  },
  {
   "cell_type": "code",
   "execution_count": null,
   "metadata": {},
   "outputs": [],
   "source": [
    "print(\"Correlation between number of international faculty members and both international students and total students:\")\n",
    "print(corr_m.loc[idx['topuniversities.com', 'international faculty'], idx['topuniversities.com', ['international students', 'number of students']]].values)"
   ]
  },
  {
   "cell_type": "markdown",
   "metadata": {},
   "source": [
    "#### Number of students\n",
    "We see that in general, the higher the number of international students registered in a university, the more international faculty members are present.\n",
    "\n",
    "Indeed, the corelation between international students and international faculty members is 0.588137 while the correlation between the total number of students and the international faculty members is 0.323739. This might suggest that when a university has a high international visibility, it attracts both foreign faculty members and students."
   ]
  },
  {
   "cell_type": "markdown",
   "metadata": {},
   "source": [
    "## Differences in rankings"
   ]
  },
  {
   "cell_type": "code",
   "execution_count": null,
   "metadata": {},
   "outputs": [],
   "source": [
    "rdiff = top_merged.copy()\n",
    "rdiff['rank difference'] = rdiff[('timeshighereducation.com', 'rank')] - rdiff[('topuniversities.com', 'rank')]\n",
    "print(rdiff['rank difference'].describe())\n",
    "sns.boxplot(data=rdiff['rank difference'].values, orient='h', width=0.1)\n",
    "plt.xlabel(\"Rank difference\", fontsize=16)\n",
    "plt.show()"
   ]
  },
  {
   "cell_type": "markdown",
   "metadata": {},
   "source": [
    "It is interesting that on average (over the 152 universities found in both rankings) the two rankings agree with each other (the mean and median are close to zero) while the standard deviation is very large!"
   ]
  },
  {
   "cell_type": "markdown",
   "metadata": {},
   "source": [
    "We can display the universities for which Times Higher Education gave the highest ranking (negative difference) as well as the lowest ranking with respect to *topuniversities.com* (positive difference)."
   ]
  },
  {
   "cell_type": "code",
   "execution_count": null,
   "metadata": {},
   "outputs": [],
   "source": [
    "display(rdiff[rdiff['rank difference']==-107])\n",
    "display(rdiff[rdiff['rank difference']==126])"
   ]
  },
  {
   "cell_type": "markdown",
   "metadata": {},
   "source": [
    "We can plot a kernel density estimate to see how the ranking differences are distributed:"
   ]
  },
  {
   "cell_type": "code",
   "execution_count": null,
   "metadata": {},
   "outputs": [],
   "source": [
    "plt.hist(rdiff['rank difference'], normed=True, bins=20, color='steelblue')\n",
    "sns.kdeplot(rdiff['rank difference'], bw=10, color='crimson', legend=False)\n",
    "plt.legend(['Rank difference probability density', 'Normalized rank difference distribution'])\n",
    "plt.show()"
   ]
  },
  {
   "cell_type": "markdown",
   "metadata": {
    "collapsed": true
   },
   "source": [
    "# 5. Best University (aside from EPFL :))"
   ]
  },
  {
   "cell_type": "code",
   "execution_count": null,
   "metadata": {},
   "outputs": [],
   "source": [
    "df_best = top_merged.copy()\n",
    "df_best = df_best[[('topuniversities.com', 'rank'), ('timeshighereducation.com', 'rank')]]\n",
    "df_best.columns = df_best.columns.droplevel(1)\n",
    "df_best.head()"
   ]
  },
  {
   "cell_type": "code",
   "execution_count": null,
   "metadata": {},
   "outputs": [],
   "source": [
    "df_best['min'] = df_best[['topuniversities.com', 'timeshighereducation.com']].max(axis=1)\n",
    "df_best['diff'] = np.abs(df_best['topuniversities.com'] - df_best['timeshighereducation.com'])\n",
    "df_best = df_best.drop(['topuniversities.com', 'timeshighereducation.com'], axis=1)\n",
    "df_best.head()"
   ]
  },
  {
   "cell_type": "code",
   "execution_count": null,
   "metadata": {
    "collapsed": true
   },
   "outputs": [],
   "source": [
    "df_norm = (df_best - df_best.mean()) / (df_best.max() - df_best.min())"
   ]
  },
  {
   "cell_type": "code",
   "execution_count": null,
   "metadata": {},
   "outputs": [],
   "source": [
    "sns.boxplot(df_norm['min'].values, orient='h', width=0.1)\n",
    "plt.xlabel(\"min\", fontsize=16)\n",
    "plt.show()"
   ]
  },
  {
   "cell_type": "markdown",
   "metadata": {},
   "source": [
    "# Propositions\n",
    "\n",
    "- Look at the relative correlations of international student/stuff, not absolute (might be more representative)."
   ]
  },
  {
   "cell_type": "code",
   "execution_count": null,
   "metadata": {
    "collapsed": true
   },
   "outputs": [],
   "source": []
  }
 ],
 "metadata": {
  "kernelspec": {
   "display_name": "Python [default]",
   "language": "python",
   "name": "python3"
  },
  "language_info": {
   "codemirror_mode": {
    "name": "ipython",
    "version": 3
   },
   "file_extension": ".py",
   "mimetype": "text/x-python",
   "name": "python",
   "nbconvert_exporter": "python",
   "pygments_lexer": "ipython3",
   "version": "3.5.3"
  }
 },
 "nbformat": 4,
 "nbformat_minor": 2
}
