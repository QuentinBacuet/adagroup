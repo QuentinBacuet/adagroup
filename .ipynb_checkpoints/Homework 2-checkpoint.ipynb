{
 "cells": [
  {
   "cell_type": "code",
   "execution_count": null,
   "metadata": {},
   "outputs": [],
   "source": [
    "import requests\n",
    "import pandas as pd\n",
    "import numpy as np\n",
    "from IPython.display import display\n",
    "from bs4 import BeautifulSoup\n",
    "import re\n",
    "from requests_futures.sessions import FuturesSession\n",
    "import datetime\n",
    "import seaborn as sns\n",
    "sns.set_context('notebook')\n",
    "sns.set()"
   ]
  },
  {
   "cell_type": "code",
   "execution_count": null,
   "metadata": {
    "collapsed": true
   },
   "outputs": [],
   "source": [
    "TOP_UNI_URL = \"https://www.topuniversities.com\"\n",
    "start = datetime.datetime.now()"
   ]
  },
  {
   "cell_type": "code",
   "execution_count": null,
   "metadata": {},
   "outputs": [],
   "source": [
    "r = requests.get('https://www.topuniversities.com/sites/default/files/qs-rankings-data/357051_indicators.txt')\n",
    "json = r.json()['data']\n",
    "#print(json)"
   ]
  },
  {
   "cell_type": "code",
   "execution_count": null,
   "metadata": {},
   "outputs": [],
   "source": [
    "def getLink(x):\n",
    "    soup = BeautifulSoup(x, 'html.parser')\n",
    "    link = soup.find(\"a\")\n",
    "    return pd.Series([TOP_UNI_URL + link.get(\"href\"),link.text],index = ['url','name'])"
   ]
  },
  {
   "cell_type": "code",
   "execution_count": null,
   "metadata": {
    "scrolled": true
   },
   "outputs": [],
   "source": [
    "df = pd.DataFrame(json)\n",
    "df = df[['region','overall_rank','location','uni']]\n",
    "df_temp = df.apply(lambda x: getLink(x['uni']),axis = 1)\n",
    "df = df.drop('uni',1)\n",
    "df = df.join(df_temp)\n",
    "\n",
    "display(df)"
   ]
  },
  {
   "cell_type": "code",
   "execution_count": null,
   "metadata": {
    "collapsed": true
   },
   "outputs": [],
   "source": []
  },
  {
   "cell_type": "code",
   "execution_count": null,
   "metadata": {
    "collapsed": true
   },
   "outputs": [],
   "source": [
    "def find_number(soup, list_dict_div):\n",
    "    current_soup = soup\n",
    "    for dict_div in list_dict_div:\n",
    "        current_soup = current_soup.find(\"div\",dict_div)\n",
    "        if(current_soup is None):\n",
    "            return 0\n",
    "    return int(current_soup.text.replace(\",\", \"\"))"
   ]
  },
  {
   "cell_type": "code",
   "execution_count": null,
   "metadata": {
    "collapsed": true
   },
   "outputs": [],
   "source": []
  },
  {
   "cell_type": "code",
   "execution_count": null,
   "metadata": {},
   "outputs": [],
   "source": [
    "def getExtraData(x):\n",
    "    #print(x)\n",
    "    #r_t = requests.get(x)\n",
    "    soup = BeautifulSoup(x.text, 'html.parser')\n",
    "\n",
    "    total_faculty_int = find_number(soup, [{ \"class\" : \"faculty-main wrapper col-md-4\" },{ \"class\" : \"total faculty\"}, { \"class\" : \"number\"}])\n",
    "    inter_faculty_int = find_number(soup, [{ \"class\" : \"faculty-main wrapper col-md-4\" },{ \"class\" : \"inter faculty\"}, { \"class\" : \"number\"}])\n",
    "    number_students_int = find_number(soup, [{\"class\": \"students-main wrapper col-md-4\"}, { \"class\" : \"number\"}])\n",
    "    international_students_int = find_number(soup, [{\"class\": \"int-students-main wrapper col-md-4\"}, { \"class\" : \"number\"}])\n",
    "\n",
    "    return pd.DataFrame(data = [[total_faculty_int,inter_faculty_int,number_students_int,international_students_int]], columns = ['total faculty','international faculty','number of students','international students'])\n",
    "\n",
    "def async_getExtraData(sess,x):\n",
    "    return getExtraData(x)"
   ]
  },
  {
   "cell_type": "code",
   "execution_count": null,
   "metadata": {
    "collapsed": true
   },
   "outputs": [],
   "source": []
  },
  {
   "cell_type": "code",
   "execution_count": null,
   "metadata": {},
   "outputs": [],
   "source": [
    "df = df.head(200)\n",
    "\n",
    "df_temp = df[['url']]\n",
    "\n",
    "#display(df_temp)\n",
    "urls = df_temp.values.tolist()\n",
    "urls = [item for sublist in urls for item in sublist]\n",
    "#print(urls)\n",
    "\n",
    "session = FuturesSession(max_workers=10)\n",
    "futures = []\n",
    "results =[]\n",
    "\n",
    "for url in urls:\n",
    "    future = session.get(url)\n",
    "    futures.append((url,future))\n",
    "\n",
    "for url,r in futures:\n",
    "    results.append((url,r.result()))"
   ]
  },
  {
   "cell_type": "code",
   "execution_count": null,
   "metadata": {
    "collapsed": true
   },
   "outputs": [],
   "source": []
  },
  {
   "cell_type": "code",
   "execution_count": null,
   "metadata": {},
   "outputs": [],
   "source": [
    "list_dataframe = []\n",
    "\n",
    "for url,result in results:\n",
    "    list_dataframe.append(pd.concat([getExtraData(result),pd.DataFrame(data = [url],columns=['url'])],axis = 1))\n",
    "    \n",
    "print('done')"
   ]
  },
  {
   "cell_type": "code",
   "execution_count": null,
   "metadata": {},
   "outputs": [],
   "source": [
    "df_temp = pd.concat(list_dataframe)\n",
    "display(df_temp)"
   ]
  },
  {
   "cell_type": "code",
   "execution_count": null,
   "metadata": {},
   "outputs": [],
   "source": [
    "df = df.merge(df_temp, left_on='url', right_on='url', how='outer')\n",
    "df = df.drop('url', 1)"
   ]
  },
  {
   "cell_type": "code",
   "execution_count": null,
   "metadata": {},
   "outputs": [],
   "source": [
    "display(df)"
   ]
  },
  {
   "cell_type": "code",
   "execution_count": null,
   "metadata": {
    "collapsed": true
   },
   "outputs": [],
   "source": [
    "def display_ratio(df):\n",
    "    df_ratio = df.copy()\n",
    "    \n",
    "    df_ratio['ratio'] = df_ratio['total faculty'] / df_ratio['number of students']\n",
    "    df_ratio = df_ratio.sort_values('ratio',ascending=False)\n",
    "    display(df_ratio)\n",
    "    \n",
    "    df_ratio['ratio'] = df_ratio['international students'] / df_ratio['number of students']\n",
    "    df_ratio = df_ratio.sort_values('ratio',ascending=False)\n",
    "    display(df_ratio)"
   ]
  },
  {
   "cell_type": "markdown",
   "metadata": {},
   "source": [
    "### a ,b)"
   ]
  },
  {
   "cell_type": "code",
   "execution_count": null,
   "metadata": {},
   "outputs": [],
   "source": [
    "display_ratio(df)"
   ]
  },
  {
   "cell_type": "markdown",
   "metadata": {},
   "source": [
    "### c)"
   ]
  },
  {
   "cell_type": "code",
   "execution_count": null,
   "metadata": {},
   "outputs": [],
   "source": [
    "display_ratio(df.groupby('location').sum())"
   ]
  },
  {
   "cell_type": "markdown",
   "metadata": {},
   "source": [
    "### d)"
   ]
  },
  {
   "cell_type": "code",
   "execution_count": null,
   "metadata": {},
   "outputs": [],
   "source": [
    "display_ratio(df.groupby('region').sum())"
   ]
  },
  {
   "cell_type": "code",
   "execution_count": null,
   "metadata": {},
   "outputs": [],
   "source": [
    "end = datetime.datetime.now()\n",
    "print(end - start)      "
   ]
  }
 ],
 "metadata": {
  "kernelspec": {
   "display_name": "Python [conda root]",
   "language": "python",
   "name": "conda-root-py"
  },
  "language_info": {
   "codemirror_mode": {
    "name": "ipython",
    "version": 3
   },
   "file_extension": ".py",
   "mimetype": "text/x-python",
   "name": "python",
   "nbconvert_exporter": "python",
   "pygments_lexer": "ipython3",
   "version": "3.5.3"
  }
 },
 "nbformat": 4,
 "nbformat_minor": 2
}
